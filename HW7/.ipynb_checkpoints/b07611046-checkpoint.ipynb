{
 "cells": [
  {
   "cell_type": "markdown",
   "id": "311763a9",
   "metadata": {},
   "source": [
    "## Problem 1 (Support vector machine)\n"
   ]
  },
  {
   "cell_type": "markdown",
   "id": "62babc39",
   "metadata": {},
   "source": [
    "![title](1and2.jpg)\n",
    "![title](candd.jpg)\n",
    "![title](eandf.jpg)"
   ]
  },
  {
   "cell_type": "markdown",
   "id": "c1789241",
   "metadata": {},
   "source": [
    "## Problem 2(Support vector machine)"
   ]
  },
  {
   "cell_type": "markdown",
   "id": "015c1a2c",
   "metadata": {},
   "source": [
    "### (a)"
   ]
  },
  {
   "cell_type": "code",
   "execution_count": 90,
   "id": "84615873",
   "metadata": {},
   "outputs": [
    {
     "name": "stdout",
     "output_type": "stream",
     "text": [
      "(10, 500, 784) (10, 100, 784)\n"
     ]
    }
   ],
   "source": [
    "import numpy as np\n",
    "import matplotlib.pyplot as plt\n",
    "import scipy.io as sio\n",
    "from numpy import linalg as la\n",
    "import math\n",
    "from sklearn.preprocessing import StandardScaler\n",
    "\n",
    "data = sio.loadmat(\"07HW2_digit.mat\", mdict=None, appendmat=True)\n",
    "\n",
    "Trlabel = ['train0','train1','train2','train3','train4','train5','train6','train7','train8','train9']\n",
    "Tlabel = ['test0','test1','test2','test3','test4','test5','test6','test7','test8','test9']\n",
    "Train = []\n",
    "Test = []\n",
    "\n",
    "for t in Trlabel:\n",
    "    Train.append(data.get(t).astype(float))\n",
    "\n",
    "for t in Tlabel:\n",
    "    Test.append(data.get(t).astype(float))\n",
    "Train = np.array(Train)\n",
    "Test = np.array(Test)\n",
    "#plt.imshow(Train[0,0].reshape(28,28), cmap='gray')"
   ]
  },
  {
   "cell_type": "code",
   "execution_count": 115,
   "id": "43616f5b",
   "metadata": {},
   "outputs": [],
   "source": [
    "Train_std = []\n",
    "Test_std = []\n",
    "\n",
    "def normalize(arr):\n",
    "    arr -= arr.min()\n",
    "    return arr / arr.max()\n",
    "\n",
    "###this doesn't work because the data needs to normalize between 0-1 while using this method might makes the value becomes negative\n",
    "\n",
    "# for i in range(10):\n",
    "#     sc = StandardScaler()\n",
    "#     sc.fit(Train[i])\n",
    "#     Train_std.append(sc.transform(Train[i]))\n",
    "# Train_std = np.array(Train_std)\n",
    "\n",
    "# for i in range(10):\n",
    "#     sc = StandardScaler()\n",
    "#     sc.fit(Test[i])\n",
    "#     Test_std.append(sc.transform(Test[i]))\n",
    "# Test_std = np.array(Test_std)\n",
    "\n",
    "Train_std = normalize(Train)\n",
    "Test_std = normalize(Test)"
   ]
  },
  {
   "cell_type": "code",
   "execution_count": 116,
   "id": "bbe0dc53",
   "metadata": {},
   "outputs": [],
   "source": [
    "Train_pick = np.append(Train_std[0], Train_std[1], axis = 0)\n",
    "Train_pick_label = np.repeat(range(2), Train_std[0].shape[0])\n",
    "\n",
    "Test_pick = np.append(Test_std[0], Test_std[1], axis = 0)\n",
    "Test_pick_label = np.repeat(range(2), Test_std[0].shape[0])"
   ]
  },
  {
   "cell_type": "code",
   "execution_count": 149,
   "id": "8e2b56d2",
   "metadata": {},
   "outputs": [
    {
     "name": "stdout",
     "output_type": "stream",
     "text": [
      "[6.103515625e-05, 0.0001220703125, 0.000244140625, 0.00048828125, 0.0009765625, 0.001953125, 0.00390625, 0.0078125, 0.015625]\n",
      "[[0.94  0.94  0.94  0.94  0.985 0.99  0.995 1.    1.   ]\n",
      " [0.94  0.94  0.94  0.985 0.99  0.995 1.    1.    1.   ]\n",
      " [0.94  0.94  0.985 0.99  0.995 1.    1.    1.    1.   ]\n",
      " [0.945 0.985 0.99  0.995 1.    1.    1.    1.    1.   ]\n",
      " [0.985 0.99  0.995 1.    1.    1.    1.    1.    1.   ]\n",
      " [0.99  0.995 1.    1.    1.    1.    1.    1.    1.   ]\n",
      " [0.995 1.    1.    1.    1.    1.    1.    1.    1.   ]\n",
      " [1.    1.    1.    1.    1.    1.    1.    1.    1.   ]\n",
      " [1.    1.    1.    1.    1.    1.    1.    1.    1.   ]]\n"
     ]
    }
   ],
   "source": [
    "from sklearn.svm import SVC\n",
    "\n",
    "gamma = []\n",
    "for i in range(-14, -5):\n",
    "    gamma.append(pow(2,i))\n",
    "c = []\n",
    "for i in range(-5, 4):\n",
    "    c.append(pow(2,i))\n",
    "    \n",
    "    \n",
    "acc_table = np.zeros((len(gamma), len(c)))\n",
    "for i, g in enumerate(gamma):\n",
    "    for j,Cir in enumerate(c):\n",
    "        svm = SVC(gamma = g, C= Cir, kernel='rbf')\n",
    "        svm.fit(Train_pick, Train_pick_label)\n",
    "        result = svm.predict(Test_pick)\n",
    "        accuracy = np.sum(np.equal(result, Test_pick_label)) / len(Test_pick_label)\n",
    "        acc_table[i,j] = accuracy\n",
    "print(acc_table)\n",
    "        "
   ]
  },
  {
   "cell_type": "markdown",
   "id": "9b3e0e3f",
   "metadata": {},
   "source": [
    "To choose the best pair of 𝛾 and 𝑐, we want to find out the one with the best accuracy and at the meantime, \n",
    "it has the miximum c and minimum 𝛾. <br>\n",
    "Therefore the best pair is (𝛾, 𝑐) is ($2^{-14}$, $2^{3}$)"
   ]
  },
  {
   "cell_type": "markdown",
   "id": "0deac00b",
   "metadata": {},
   "source": [
    "### (b) "
   ]
  },
  {
   "cell_type": "code",
   "execution_count": 118,
   "id": "bf7ff65e",
   "metadata": {},
   "outputs": [
    {
     "name": "stdout",
     "output_type": "stream",
     "text": [
      "[[1. 1. 1. 1. 1. 1. 1. 1. 1.]\n",
      " [1. 1. 1. 1. 1. 1. 1. 1. 1.]\n",
      " [1. 1. 1. 1. 1. 1. 1. 1. 1.]\n",
      " [1. 1. 1. 1. 1. 1. 1. 1. 1.]\n",
      " [1. 1. 1. 1. 1. 1. 1. 1. 1.]\n",
      " [1. 1. 1. 1. 1. 1. 1. 1. 1.]\n",
      " [1. 1. 1. 1. 1. 1. 1. 1. 1.]\n",
      " [1. 1. 1. 1. 1. 1. 1. 1. 1.]\n",
      " [1. 1. 1. 1. 1. 1. 1. 1. 1.]]\n"
     ]
    }
   ],
   "source": [
    "#linear \n",
    "acc_table = np.zeros((len(gamma), len(c)))\n",
    "for i, g in enumerate(gamma):\n",
    "    for j,Cir in enumerate(c):\n",
    "        svm = SVC(gamma = g, C= Cir, kernel='linear')\n",
    "        svm.fit(Train_pick, Train_pick_label)\n",
    "        result = svm.predict(Test_pick)\n",
    "        accuracy = np.sum(np.equal(result, Test_pick_label)) / len(Test_pick_label)\n",
    "        acc_table[i,j] = accuracy\n",
    "print(acc_table)"
   ]
  },
  {
   "cell_type": "code",
   "execution_count": 121,
   "id": "598ddb68",
   "metadata": {},
   "outputs": [
    {
     "name": "stdout",
     "output_type": "stream",
     "text": [
      "degree:  1\n",
      "[[0.94  0.94  0.94  0.94  0.94  0.985 0.99  0.995 1.   ]\n",
      " [0.94  0.94  0.94  0.94  0.985 0.99  0.995 1.    1.   ]\n",
      " [0.94  0.94  0.94  0.985 0.99  0.995 1.    1.    1.   ]\n",
      " [0.94  0.94  0.985 0.99  0.995 1.    1.    1.    1.   ]\n",
      " [0.94  0.985 0.99  0.995 1.    1.    1.    1.    1.   ]\n",
      " [0.985 0.99  0.995 1.    1.    1.    1.    1.    1.   ]\n",
      " [0.99  0.995 1.    1.    1.    1.    1.    1.    1.   ]\n",
      " [0.995 1.    1.    1.    1.    1.    1.    1.    1.   ]\n",
      " [1.    1.    1.    1.    1.    1.    1.    1.    1.   ]]\n",
      "degree:  2\n",
      "[[0.575 0.575 0.575 0.575 0.575 0.575 0.575 0.575 0.575]\n",
      " [0.575 0.575 0.575 0.575 0.575 0.575 0.575 0.575 0.575]\n",
      " [0.575 0.575 0.575 0.575 0.575 0.575 0.575 0.575 0.69 ]\n",
      " [0.575 0.575 0.575 0.575 0.575 0.575 0.69  0.84  0.92 ]\n",
      " [0.575 0.575 0.575 0.575 0.69  0.84  0.92  0.955 0.99 ]\n",
      " [0.575 0.575 0.69  0.84  0.92  0.955 0.99  0.99  0.995]\n",
      " [0.69  0.84  0.92  0.955 0.99  0.99  0.995 1.    1.   ]\n",
      " [0.92  0.955 0.99  0.99  0.995 1.    1.    1.    1.   ]\n",
      " [0.99  0.99  0.995 1.    1.    1.    1.    1.    1.   ]]\n",
      "degree:  3\n",
      "[[0.535 0.535 0.535 0.535 0.535 0.535 0.535 0.535 0.535]\n",
      " [0.535 0.535 0.535 0.535 0.535 0.535 0.535 0.535 0.535]\n",
      " [0.535 0.535 0.535 0.535 0.535 0.535 0.535 0.535 0.535]\n",
      " [0.535 0.535 0.535 0.535 0.535 0.535 0.535 0.535 0.535]\n",
      " [0.535 0.535 0.535 0.535 0.535 0.535 0.535 0.57  0.64 ]\n",
      " [0.535 0.535 0.535 0.535 0.57  0.64  0.725 0.825 0.855]\n",
      " [0.535 0.57  0.64  0.725 0.825 0.855 0.93  0.96  0.98 ]\n",
      " [0.725 0.825 0.855 0.93  0.96  0.98  0.985 0.99  0.99 ]\n",
      " [0.93  0.96  0.98  0.985 0.99  0.99  0.995 0.995 0.995]]\n"
     ]
    }
   ],
   "source": [
    "#polynomial\n",
    "for d in range(1,4):\n",
    "    print('degree: ', d)\n",
    "    acc_table = np.zeros((len(gamma), len(c)))\n",
    "    for i, g in enumerate(gamma):\n",
    "        for j,Cir in enumerate(c):\n",
    "            svm = SVC(gamma = g, C= Cir, degree = d, kernel='poly')\n",
    "            svm.fit(Train_pick, Train_pick_label)\n",
    "            result = svm.predict(Test_pick)\n",
    "            accuracy = np.sum(np.equal(result, Test_pick_label)) / len(Test_pick_label)\n",
    "            acc_table[i,j] = accuracy\n",
    "    print(acc_table)"
   ]
  },
  {
   "cell_type": "markdown",
   "id": "dda32eff",
   "metadata": {},
   "source": [
    "From the results above, we can see that using linear kernal, the accuracy are all 100% which is the highest, <br>\n",
    "while using polynomial kernal, the acurracy is decreasing when c and gamma decreases. <br>\n",
    "What's more, the accuracy drops when degree is higher "
   ]
  },
  {
   "cell_type": "markdown",
   "id": "faa4b50e",
   "metadata": {},
   "source": [
    "### (c) "
   ]
  },
  {
   "cell_type": "code",
   "execution_count": 225,
   "id": "51d5ef1f",
   "metadata": {},
   "outputs": [],
   "source": [
    "def SVM(g, Cir, kernel, degree=3):\n",
    "    svm_model = []\n",
    "    Train=[]\n",
    "    Test = []\n",
    "    Test = Test_std.reshape(Test_std.shape[0]*Test_std.shape[1], Test_std.shape[2])\n",
    "    Test_label = np.repeat(range(10), Test_std.shape[1])\n",
    "    for i in range(Train_std.shape[0]):\n",
    "        Train=[]\n",
    "        Predict_label = np.zeros(Test.shape[0])\n",
    "        \n",
    "        One = Train_std[i]\n",
    "        Other = np.delete(Train_std, i, axis=0)\n",
    "        Other = Other.reshape(Other.shape[0]*Other.shape[1], Other.shape[2])\n",
    "        Train = np.append(One, Other, axis=0)\n",
    "        \n",
    "        label_one = np.repeat(i, One.shape[0])\n",
    "        label_other = np.repeat(-1, Other.shape[0])\n",
    "        label = np.append(label_one, label_other)\n",
    "        \n",
    "        if(kernel == 'poly'):\n",
    "            svm = SVC(gamma = g, C= Cir, kernel=kernel,degree= degree)\n",
    "        else:\n",
    "            svm = SVC(gamma = g, C= Cir, kernel=kernel)\n",
    "        svm_model.append(svm.fit(Train, label))\n",
    "    \n",
    "    Predict_label = np.zeros(Test.shape[0])\n",
    "    for index, predict in enumerate(svm_model):\n",
    "        result = predict.predict(Test)\n",
    "        Predict_label[result == np.repeat(index, len(result))] = index\n",
    "        \n",
    "#         result[result == np.repeat]\n",
    "    accuracy = np.sum(np.equal(Predict_label, Test_label)) / len(Test_label)\n",
    "    #print(accuracy*100)\n",
    "    return accuracy"
   ]
  },
  {
   "cell_type": "code",
   "execution_count": 230,
   "id": "6806c540",
   "metadata": {},
   "outputs": [],
   "source": [
    "Accuracy_RBF = 0\n",
    "Accuracy_linear = 0\n",
    "Accuracy_Poly = 0\n",
    "gamma = [pow(2,i) for i in range(-14, -5)]\n",
    "c = [pow(2,i) for i in range(-5, 4)]"
   ]
  },
  {
   "cell_type": "code",
   "execution_count": 227,
   "id": "f3e3488b",
   "metadata": {},
   "outputs": [
    {
     "name": "stdout",
     "output_type": "stream",
     "text": [
      "Best accuracy of rbf is 0.915, \n",
      "  with gamma = 0.015625 and c = 8\n"
     ]
    }
   ],
   "source": [
    "hyp =[0,0]\n",
    "gamma = []\n",
    "for i in range(-7, -5):\n",
    "    gamma.append(pow(2,i))\n",
    "c = []\n",
    "for i in range(-3, 4):\n",
    "    c.append(pow(2,i))\n",
    "    \n",
    "for i, g in enumerate(gamma):\n",
    "    for j,Cir in enumerate(c):\n",
    "        accuarcy = SVM(g,Cir,'rbf')\n",
    "        if( accuarcy > Accuracy_RBF):\n",
    "            Accuracy_RBF = accuarcy\n",
    "            hyp[0] = g\n",
    "            hyp[1] = Cir\n",
    "print(f'Best accuracy of rbf is {Accuracy_RBF}, ')\n",
    "print(f'  with gamma = {hyp[0]} and c = { hyp[1]}')\n",
    "    "
   ]
  },
  {
   "cell_type": "code",
   "execution_count": 234,
   "id": "c0b3d893",
   "metadata": {},
   "outputs": [
    {
     "name": "stdout",
     "output_type": "stream",
     "text": [
      "Best accuracy of linear is 0.805, \n",
      "  with gamma = 0.0078125 and c = 0.125\n"
     ]
    }
   ],
   "source": [
    "hyp =[0,0]\n",
    "gamma = []\n",
    "for i in range(-7, -5):\n",
    "    gamma.append(pow(2,i))\n",
    "c = []\n",
    "for i in range(-3, 4):\n",
    "    c.append(pow(2,i))\n",
    "    \n",
    "for i, g in enumerate(gamma):\n",
    "    for j,Cir in enumerate(c):\n",
    "        accuarcy = SVM(g,Cir,'linear')\n",
    "        if( accuarcy > Accuracy_linear):\n",
    "            Accuracy_linear = accuarcy\n",
    "            hyp[0] = g\n",
    "            hyp[1] = Cir\n",
    "print(f'Best accuracy of linear is {Accuracy_linear}, ')\n",
    "print(f'  with gamma = {hyp[0]} and c = { hyp[1]}')"
   ]
  },
  {
   "cell_type": "code",
   "execution_count": 233,
   "id": "3fa8b8e6",
   "metadata": {},
   "outputs": [
    {
     "name": "stdout",
     "output_type": "stream",
     "text": [
      "Best accuracy of poly-2 is 0.913, \n",
      "  with gamma = 0.015625 and c = 8\n",
      "Best accuracy of poly-3 is 0.892, \n",
      "  with gamma = 0.015625 and c = 8\n",
      "Best accuracy of poly-4 is 0.866, \n",
      "  with gamma = 0.015625 and c = 8\n"
     ]
    }
   ],
   "source": [
    "for degree in range(2, 5):\n",
    "    Accuracy_Poly = 0\n",
    "    hyp =[0,0]\n",
    "    gamma = []\n",
    "    for i in range(-7, -5):\n",
    "        gamma.append(pow(2,i))\n",
    "    c = []\n",
    "    for i in range(-3, 4):\n",
    "        c.append(pow(2,i))\n",
    "\n",
    "    for i, g in enumerate(gamma):\n",
    "        for j,Cir in enumerate(c):\n",
    "            accuarcy = SVM(g,Cir,'poly', degree=degree)\n",
    "            if( accuarcy > Accuracy_Poly):\n",
    "                Accuracy_Poly = accuarcy\n",
    "                hyp[0] = g\n",
    "                hyp[1] = Cir\n",
    "    print(f'Best accuracy of poly-{degree} is {Accuracy_Poly}, ')\n",
    "    print(f'  with gamma = {hyp[0]} and c = { hyp[1]}')"
   ]
  },
  {
   "cell_type": "markdown",
   "id": "8751957b",
   "metadata": {},
   "source": [
    "Tring with different pairs of 𝛾 (from $2^{-7}$ till $2^{-6}$) and 𝑐 (from $2^{-3}$ till $2^{3}$).<br>\n",
    "In those condition, the SVM model gets the highest accuracy when... <br> \n",
    "rbf($0.015625$, $2^{3}$)) = 0.915 <br>\n",
    "linear($0.0078125$, $0.125$) = 0.805 <br>\n",
    "poly-2($0.015625$, $8$) = 0.913 <br>\n",
    "poly-3($0.015625$, $8$) = 0.892 <br>\n",
    "poly-4($0.015625$, $8$) = 0.866 <br>\n",
    "So it the best choice is to use 'rbf' in this task to get the best performance."
   ]
  },
  {
   "cell_type": "code",
   "execution_count": null,
   "id": "0493c105",
   "metadata": {},
   "outputs": [],
   "source": []
  }
 ],
 "metadata": {
  "kernelspec": {
   "display_name": "Python 3 (ipykernel)",
   "language": "python",
   "name": "python3"
  },
  "language_info": {
   "codemirror_mode": {
    "name": "ipython",
    "version": 3
   },
   "file_extension": ".py",
   "mimetype": "text/x-python",
   "name": "python",
   "nbconvert_exporter": "python",
   "pygments_lexer": "ipython3",
   "version": "3.7.3"
  }
 },
 "nbformat": 4,
 "nbformat_minor": 5
}
