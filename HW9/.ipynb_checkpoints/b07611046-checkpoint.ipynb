{
 "cells": [
  {
   "cell_type": "markdown",
   "id": "d44b0e22",
   "metadata": {},
   "source": [
    "## Problem 1 (MATLAB neural network toolbox)"
   ]
  },
  {
   "cell_type": "code",
   "execution_count": 182,
   "id": "e546f3f3",
   "metadata": {},
   "outputs": [],
   "source": [
    "import matplotlib.pyplot as plt\n",
    "import math\n",
    "import numpy as np\n",
    "import scipy.io as sio\n",
    "from numpy import linalg as la\n",
    "import torch\n",
    "import torch.nn as nn\n",
    "import torch.nn.functional as F\n",
    "import torch.optim as optim\n",
    "from torchvision import transforms, datasets"
   ]
  },
  {
   "cell_type": "code",
   "execution_count": 40,
   "id": "3d4ed59d",
   "metadata": {},
   "outputs": [],
   "source": [
    "x = torch.unsqueeze(torch.arange(0, 2, 0.01), dim=1)\n",
    "\n",
    "y = torch.sin(2*math.pi*x) + 0.1 * torch.rand(x.size())"
   ]
  },
  {
   "cell_type": "code",
   "execution_count": 205,
   "id": "5cc0ecc1",
   "metadata": {},
   "outputs": [],
   "source": [
    "class Net(nn.Module):\n",
    "\n",
    "    def __init__(self):\n",
    "        super(Net, self).__init__()\n",
    "        # 1 input, 3 hidden, 1 output \n",
    "        # kernel\n",
    "        self.input = nn.Linear(1,3)\n",
    "        self.hidden = nn.Linear(3,3)\n",
    "        self.output = nn.Linear(3,1)\n",
    "        self.tan = nn.Tanh()\n",
    "        \n",
    "    def forward(self, X):\n",
    "        X = self.tan(self.input(X))\n",
    "        X = self.tan(self.hidden(X))\n",
    "        X = self.output(X)\n",
    "        return X"
   ]
  },
  {
   "cell_type": "code",
   "execution_count": 206,
   "id": "9dd3b1c9",
   "metadata": {},
   "outputs": [
    {
     "name": "stdout",
     "output_type": "stream",
     "text": [
      "Net(\n",
      "  (input): Linear(in_features=1, out_features=3, bias=True)\n",
      "  (hidden): Linear(in_features=3, out_features=3, bias=True)\n",
      "  (output): Linear(in_features=3, out_features=1, bias=True)\n",
      "  (tan): Tanh()\n",
      ")\n"
     ]
    }
   ],
   "source": [
    "model = Net()\n",
    "print(model)"
   ]
  },
  {
   "cell_type": "code",
   "execution_count": 207,
   "id": "d1045347",
   "metadata": {},
   "outputs": [],
   "source": [
    "optimizer = torch.optim.Adam(model.parameters(), lr=0.05)\n",
    "loss_func = torch.nn.MSELoss()"
   ]
  },
  {
   "cell_type": "code",
   "execution_count": 208,
   "id": "33ee4870",
   "metadata": {},
   "outputs": [
    {
     "name": "stdout",
     "output_type": "stream",
     "text": [
      "Epoch  0 :  tensor(0.5084)\n",
      "Epoch  20 :  tensor(0.4234)\n",
      "Epoch  40 :  tensor(0.4099)\n",
      "Epoch  60 :  tensor(0.4019)\n",
      "Epoch  80 :  tensor(0.3820)\n",
      "Epoch  100 :  tensor(0.3357)\n",
      "Epoch  120 :  tensor(0.3013)\n",
      "Epoch  140 :  tensor(0.2808)\n",
      "Epoch  160 :  tensor(0.2709)\n",
      "Epoch  180 :  tensor(0.0918)\n",
      "Epoch  200 :  tensor(0.0292)\n",
      "Epoch  220 :  tensor(0.0214)\n",
      "Epoch  240 :  tensor(0.0198)\n",
      "Epoch  260 :  tensor(0.0186)\n",
      "Epoch  280 :  tensor(0.0176)\n",
      "Epoch  300 :  tensor(0.0167)\n",
      "Epoch  320 :  tensor(0.0159)\n",
      "Epoch  340 :  tensor(0.0148)\n",
      "Epoch  360 :  tensor(0.0148)\n",
      "Epoch  380 :  tensor(0.0126)\n",
      "Epoch  400 :  tensor(0.0113)\n",
      "Epoch  420 :  tensor(0.0100)\n",
      "Epoch  440 :  tensor(0.0088)\n",
      "Epoch  460 :  tensor(0.0078)\n",
      "Epoch  480 :  tensor(0.0089)\n",
      "Epoch  500 :  tensor(0.0063)\n",
      "Epoch  520 :  tensor(0.0055)\n",
      "Epoch  540 :  tensor(0.0048)\n",
      "Epoch  560 :  tensor(0.0043)\n",
      "Epoch  580 :  tensor(0.0079)\n",
      "Epoch  600 :  tensor(0.0039)\n",
      "Epoch  620 :  tensor(0.0032)\n",
      "Epoch  640 :  tensor(0.0028)\n",
      "Epoch  660 :  tensor(0.0025)\n",
      "Epoch  680 :  tensor(0.0040)\n",
      "Epoch  700 :  tensor(0.0022)\n",
      "Epoch  720 :  tensor(0.0021)\n",
      "Epoch  740 :  tensor(0.0019)\n",
      "Epoch  760 :  tensor(0.0018)\n",
      "Epoch  780 :  tensor(0.0016)\n",
      "Epoch  800 :  tensor(0.0016)\n",
      "Epoch  820 :  tensor(0.0019)\n",
      "Epoch  840 :  tensor(0.0026)\n",
      "Epoch  860 :  tensor(0.0014)\n",
      "Epoch  880 :  tensor(0.0014)\n",
      "Epoch  900 :  tensor(0.0013)\n",
      "Epoch  920 :  tensor(0.0013)\n",
      "Epoch  940 :  tensor(0.0012)\n",
      "Epoch  960 :  tensor(0.0014)\n",
      "Epoch  980 :  tensor(0.0037)\n",
      "Epoch  1000 :  tensor(0.0012)\n",
      "Epoch  1020 :  tensor(0.0012)\n",
      "Epoch  1040 :  tensor(0.0011)\n",
      "Epoch  1060 :  tensor(0.0011)\n",
      "Epoch  1080 :  tensor(0.0011)\n",
      "Epoch  1100 :  tensor(0.0011)\n",
      "Epoch  1120 :  tensor(0.0011)\n",
      "Epoch  1140 :  tensor(0.0012)\n",
      "Epoch  1160 :  tensor(0.0012)\n",
      "Epoch  1180 :  tensor(0.0011)\n",
      "Epoch  1200 :  tensor(0.0010)\n",
      "Epoch  1220 :  tensor(0.0010)\n",
      "Epoch  1240 :  tensor(0.0010)\n",
      "Early stop at 1241 epochs with loss less than 0.001.\n",
      "root-mean-squared error =  0.03161905342197004\n"
     ]
    },
    {
     "data": {
      "image/png": "[encoded data removed]",
      "text/plain": [
       "<Figure size 432x288 with 1 Axes>"
      ]
     },
     "metadata": {
      "needs_background": "light"
     },
     "output_type": "display_data"
    }
   ],
   "source": [
    "for t in range(2001):\n",
    "    \n",
    "    # Make predictions for this batch\n",
    "    y_predicted = model(x)\n",
    "    # Compute the loss and its gradients\n",
    "    loss = loss_func(y_predicted, y) \n",
    "    \n",
    "    if t%20 == 0:\n",
    "        print('Epoch ',t,': ', loss.data)\n",
    "    if loss < 0.001:\n",
    "        print(f'Early stop at {t} epochs with loss less than 0.001.')\n",
    "        break\n",
    "    \n",
    "    # Zero your gradients for every batch!\n",
    "    optimizer.zero_grad()\n",
    "    \n",
    "    loss.backward()\n",
    "    \n",
    "    # Adjust learning weights\n",
    "    optimizer.step()\n",
    "\n",
    "#sqrt(mean());\n",
    "print('root-mean-squared error = ', math.sqrt(np.mean(((y_predicted-y)**2).detach().numpy())))\n",
    "plt.clf()\n",
    "plt.plot(x.numpy(), y_predicted.data.numpy(), '-', c='blue', lw=2, label='Prediction')\n",
    "plt.scatter(x.numpy(), y.data.numpy(), c='orange', s=5, label='Groundtruth')\n",
    "plt.legend()\n",
    "plt.show()"
   ]
  },
  {
   "cell_type": "markdown",
   "id": "6a39f5c1",
   "metadata": {},
   "source": [
    "經過測試，在Neurons數量為3時，他有時候能在epochs小於2000收斂，但在大部分的時候並沒有辦法於epochs2000收斂，而此次結果於epochs=1241時收斂，且root-mean-squared error為0.03161905342197004"
   ]
  },
  {
   "cell_type": "markdown",
   "id": "ccd37948",
   "metadata": {},
   "source": [
    "## Problem 2 (Convolutional neural network)"
   ]
  },
  {
   "cell_type": "code",
   "execution_count": 308,
   "id": "6723e92e",
   "metadata": {},
   "outputs": [],
   "source": [
    "# data = sio.loadmat(\"07HW2_digit.mat\", mdict=None, appendmat=True)\n",
    "\n",
    "\n",
    "# Trlabel = ['train0','train1','train2','train3','train4','train5','train6','train7','train8','train9']\n",
    "# Tlabel = ['test0','test1','test2','test3','test4','test5','test6','test7','test8','test9']\n",
    "# Train = []\n",
    "# Test = []\n",
    "\n",
    "# for t in Trlabel:\n",
    "#     Train.append(data.get(t).astype(float))\n",
    "\n",
    "# for t in Tlabel:\n",
    "#     Test.append(data.get(t).astype(float))\n",
    "# Train = np.array(Train)\n",
    "# Train_label = np.repeat(range(10), Train.shape[1])\n",
    "# Test = np.array(Test)\n",
    "# Test_label = np.repeat(range(10), Test.shape[1])\n",
    "# #plt.imshow(Train[0,0].reshape(28,28), cmap='gray')\n",
    "# print(Train.shape, Train_label.shape)\n",
    "# print(Test.shape, Test_label.shape)"
   ]
  },
  {
   "cell_type": "code",
   "execution_count": 337,
   "id": "c68f70e4",
   "metadata": {},
   "outputs": [
    {
     "name": "stdout",
     "output_type": "stream",
     "text": [
      "60000 10000\n"
     ]
    }
   ],
   "source": [
    "trainset = datasets.MNIST('', train=True, download=True, \n",
    "                       transform=transforms.Compose([transforms.ToTensor()]))\n",
    "testset = datasets.MNIST('', train=False, download=True, \n",
    "                       transform=transforms.Compose([transforms.ToTensor()]))\n",
    "print(len(trainset), len(testset))"
   ]
  },
  {
   "cell_type": "code",
   "execution_count": 338,
   "id": "312f9bf4",
   "metadata": {},
   "outputs": [
    {
     "name": "stdout",
     "output_type": "stream",
     "text": [
      "number of epochs = 16\n"
     ]
    }
   ],
   "source": [
    "# Hyper Parameters\n",
    "# batch_size, epoch and iteration\n",
    "LR = 0.01\n",
    "bsize = 100\n",
    "n_iters = 10000\n",
    "num_epochs = int(n_iters / (len(trainset) / bsize))\n",
    "print(f'number of epochs = {num_epochs}')"
   ]
  },
  {
   "cell_type": "code",
   "execution_count": 339,
   "id": "442b2787",
   "metadata": {},
   "outputs": [],
   "source": [
    "# 28*28 feature map\n",
    "trainloader = torch.utils.data.DataLoader(trainset, batch_size=bsize, shuffle=True, pin_memory=True)\n",
    "testloader = torch.utils.data.DataLoader(testset, batch_size=bsize, shuffle=True, pin_memory=True)"
   ]
  },
  {
   "cell_type": "code",
   "execution_count": 340,
   "id": "c25a16ac",
   "metadata": {},
   "outputs": [],
   "source": [
    "class Net(nn.Module):\n",
    "    def __init__(self):\n",
    "        super().__init__()\n",
    "        # Convolution 1 , input_shape=(1,28,28)\n",
    "        self.cnn1 = nn.Conv2d(in_channels=1, out_channels=16, kernel_size=5, stride=1, padding=0) #output_shape=(16,24,24)\n",
    "        self.relu1 = nn.ReLU() # activation\n",
    "        \n",
    "        # Max pool 1\n",
    "        self.maxpool1 = nn.MaxPool2d(kernel_size=2) #output_shape=(16,12,12)\n",
    "        \n",
    "        # Convolution 2\n",
    "        self.cnn2 = nn.Conv2d(in_channels=16, out_channels=32, kernel_size=5, stride=1, padding=0) #output_shape=(32,8,8)\n",
    "        self.relu2 = nn.ReLU() # activation\n",
    "        \n",
    "        # Max pool 2\n",
    "        self.maxpool2 = nn.MaxPool2d(kernel_size=2) #output_shape=(32,4,4)\n",
    "        \n",
    "        # Fully connected 1 ,#input_shape=(32*4*4)\n",
    "        self.fc1 = nn.Linear(32 * 4 * 4, 10) \n",
    "        \n",
    "        \n",
    "    def forward(self, x):\n",
    "        # Convolution 1\n",
    "        x = self.cnn1(x)\n",
    "        x = self.relu1(x)\n",
    "        \n",
    "        # Max pool 1\n",
    "        x = self.maxpool1(x)\n",
    "        \n",
    "        # Convolution 2 \n",
    "        x = self.cnn2(x)\n",
    "        x = self.relu2(x)\n",
    "        \n",
    "        # Max pool 2 \n",
    "        x = self.maxpool2(x)\n",
    "        x = x.view(x.size(0), -1)\n",
    "        \n",
    "        # Linear function (readout)\n",
    "        x = self.fc1(x)\n",
    "  \n",
    "        return x"
   ]
  },
  {
   "cell_type": "code",
   "execution_count": 341,
   "id": "d298ebff",
   "metadata": {},
   "outputs": [],
   "source": [
    "# 整個算loss過程使用 log_softmax + nll_loss，其實就是 CrossEntropyLoss\n",
    "      \n",
    "model = Net() # inital network\n",
    "\n",
    "optimizer = torch.optim.Adam(model.parameters(), lr=LR)   # optimize all cnn parameters\n",
    "loss_func = nn.CrossEntropyLoss()   # the target label is not one-hotted\n"
   ]
  },
  {
   "cell_type": "code",
   "execution_count": 342,
   "id": "467e45aa",
   "metadata": {},
   "outputs": [
    {
     "name": "stdout",
     "output_type": "stream",
     "text": [
      "[1, 100] loss: 0.378\n",
      "[1, 200] loss: 0.122\n",
      "[1, 300] loss: 0.087\n",
      "[1, 400] loss: 0.072\n",
      "[1, 500] loss: 0.056\n",
      "[1, 600] loss: 0.065\n",
      "[2, 100] loss: 0.051\n",
      "[2, 200] loss: 0.061\n",
      "[2, 300] loss: 0.055\n",
      "[2, 400] loss: 0.055\n",
      "[2, 500] loss: 0.049\n",
      "[2, 600] loss: 0.057\n",
      "[3, 100] loss: 0.042\n",
      "[3, 200] loss: 0.042\n",
      "[3, 300] loss: 0.044\n",
      "[3, 400] loss: 0.049\n",
      "[3, 500] loss: 0.045\n",
      "[3, 600] loss: 0.051\n",
      "[4, 100] loss: 0.044\n",
      "[4, 200] loss: 0.039\n",
      "[4, 300] loss: 0.041\n",
      "[4, 400] loss: 0.051\n",
      "[4, 500] loss: 0.048\n",
      "[4, 600] loss: 0.048\n",
      "[5, 100] loss: 0.031\n",
      "[5, 200] loss: 0.040\n",
      "[5, 300] loss: 0.039\n",
      "[5, 400] loss: 0.050\n",
      "[5, 500] loss: 0.038\n",
      "[5, 600] loss: 0.050\n",
      "[6, 100] loss: 0.031\n",
      "[6, 200] loss: 0.037\n",
      "[6, 300] loss: 0.034\n",
      "[6, 400] loss: 0.037\n",
      "[6, 500] loss: 0.043\n",
      "[6, 600] loss: 0.044\n",
      "[7, 100] loss: 0.020\n",
      "[7, 200] loss: 0.034\n",
      "[7, 300] loss: 0.033\n",
      "[7, 400] loss: 0.045\n",
      "[7, 500] loss: 0.038\n",
      "[7, 600] loss: 0.048\n",
      "[8, 100] loss: 0.040\n",
      "[8, 200] loss: 0.029\n",
      "[8, 300] loss: 0.039\n",
      "[8, 400] loss: 0.042\n",
      "[8, 500] loss: 0.034\n",
      "[8, 600] loss: 0.051\n",
      "[9, 100] loss: 0.024\n",
      "[9, 200] loss: 0.034\n",
      "[9, 300] loss: 0.032\n",
      "[9, 400] loss: 0.032\n",
      "[9, 500] loss: 0.037\n",
      "[9, 600] loss: 0.043\n",
      "[10, 100] loss: 0.026\n",
      "[10, 200] loss: 0.028\n",
      "[10, 300] loss: 0.032\n",
      "[10, 400] loss: 0.032\n",
      "[10, 500] loss: 0.033\n",
      "[10, 600] loss: 0.043\n",
      "[11, 100] loss: 0.030\n",
      "[11, 200] loss: 0.036\n",
      "[11, 300] loss: 0.039\n",
      "[11, 400] loss: 0.028\n",
      "[11, 500] loss: 0.048\n",
      "[11, 600] loss: 0.042\n",
      "[12, 100] loss: 0.034\n",
      "[12, 200] loss: 0.026\n",
      "[12, 300] loss: 0.029\n",
      "[12, 400] loss: 0.043\n",
      "[12, 500] loss: 0.038\n",
      "[12, 600] loss: 0.041\n",
      "[13, 100] loss: 0.023\n",
      "[13, 200] loss: 0.026\n",
      "[13, 300] loss: 0.042\n",
      "[13, 400] loss: 0.034\n",
      "[13, 500] loss: 0.052\n",
      "[13, 600] loss: 0.034\n",
      "[14, 100] loss: 0.039\n",
      "[14, 200] loss: 0.041\n",
      "[14, 300] loss: 0.033\n",
      "[14, 400] loss: 0.030\n",
      "[14, 500] loss: 0.031\n",
      "[14, 600] loss: 0.039\n",
      "[15, 100] loss: 0.021\n",
      "[15, 200] loss: 0.030\n",
      "[15, 300] loss: 0.040\n",
      "[15, 400] loss: 0.045\n",
      "[15, 500] loss: 0.028\n",
      "[15, 600] loss: 0.042\n",
      "[16, 100] loss: 0.030\n",
      "[16, 200] loss: 0.025\n",
      "[16, 300] loss: 0.021\n",
      "[16, 400] loss: 0.038\n",
      "[16, 500] loss: 0.043\n",
      "[16, 600] loss: 0.045\n",
      "Training data Accuracy = 0.993\n",
      "testing data Accuracy = 0.984\n"
     ]
    }
   ],
   "source": [
    "model.train()\n",
    "\n",
    "training_loss = []\n",
    "training_accuracy = []\n",
    "validation_loss = []\n",
    "validation_accuracy = []\n",
    "for epoch in range(num_epochs):\n",
    "    running_loss = 0.0\n",
    "    correct_train = 0\n",
    "    total_train = 0\n",
    "    for i, data in enumerate(trainloader):\n",
    "        X, y = data\n",
    "        # training process\n",
    "        optimizer.zero_grad()    # clear the gradient calculated previously\n",
    "        y_predicted = model(X)  # put the mini-batch training data to Nerual Network, and get the predicted labels\n",
    "        loss = loss_func(y_predicted, y)  # compare the predicted labels with ground-truth labels\n",
    "        loss.backward()      # compute the gradient\n",
    "        optimizer.step()     # optimize the network\n",
    "        running_loss += loss.item()\n",
    "        if i % 100 == 99:    # print every 100 mini-batches\n",
    "            print('[%d, %3d] loss: %.3f' %\n",
    "                  (epoch + 1, i + 1, running_loss / 100))\n",
    "            running_loss = 0.0\n",
    "        correct_train += (torch.argmax(y_predicted, dim=1) == y).sum().item()\n",
    "        total_train += y.size(0)\n",
    "    \n",
    "    train_accuracy = 100 * correct_train / float(total_train)\n",
    "    training_accuracy.append(train_accuracy)\n",
    "    training_loss.append(loss.data)\n",
    "    \n",
    "    \n",
    "    # Evaluation the testing data\n",
    "    correct_test = 0\n",
    "    total_test = 0\n",
    "    for data in testloader:\n",
    "        X, y = data\n",
    "        y_predicted = model(X)\n",
    "        val_loss = loss_func(y_predicted, y)\n",
    "        correct_test += (torch.argmax(y_predicted, dim=1) == y).sum().item()\n",
    "        total_test += y.size(0)\n",
    "    \n",
    "    val_accuracy = 100 * correct_test / float(total_test)\n",
    "    validation_accuracy.append(val_accuracy)\n",
    "    validation_loss.append(val_loss.data)\n",
    "    \n",
    "print(f'Training data Accuracy = {round(correct_train/total_train, 3)}')\n",
    "print(f'testing data Accuracy = {round(correct_test/total_test, 3)}')"
   ]
  },
  {
   "cell_type": "code",
   "execution_count": 343,
   "id": "9833eda7",
   "metadata": {},
   "outputs": [
    {
     "data": {
      "image/png": "[encoded data removed]",
      "text/plain": [
       "<Figure size 432x288 with 1 Axes>"
      ]
     },
     "metadata": {
      "needs_background": "light"
     },
     "output_type": "display_data"
    },
    {
     "data": {
      "image/png": "[encoded data removed]",
      "text/plain": [
       "<Figure size 432x288 with 1 Axes>"
      ]
     },
     "metadata": {
      "needs_background": "light"
     },
     "output_type": "display_data"
    }
   ],
   "source": [
    "# visualization\n",
    "plt.plot(range(num_epochs), training_loss, 'b-', label='Training_loss')\n",
    "plt.plot(range(num_epochs), validation_loss, 'g-', label='validation_loss')\n",
    "plt.title('Training & Validation loss')\n",
    "plt.xlabel('Number of epochs')\n",
    "plt.ylabel('Loss')\n",
    "plt.legend()\n",
    "plt.show()\n",
    "plt.plot(range(num_epochs), training_accuracy, 'b-', label='Training_accuracy')\n",
    "plt.plot(range(num_epochs), validation_accuracy, 'g-', label='Validation_accuracy')\n",
    "plt.title('Training & Validation accuracy')\n",
    "plt.xlabel('Number of epochs')\n",
    "plt.ylabel('Accuracy')\n",
    "plt.legend()\n",
    "plt.show()"
   ]
  },
  {
   "cell_type": "markdown",
   "id": "cc34c818",
   "metadata": {},
   "source": [
    "我使用MINIST資料集，當中hyperparameters, learning rate為0.01, batch size為100, number of epochs為16"
   ]
  },
  {
   "cell_type": "code",
   "execution_count": null,
   "id": "02bb3974",
   "metadata": {},
   "outputs": [],
   "source": []
  }
 ],
 "metadata": {
  "kernelspec": {
   "display_name": "Python 3 (ipykernel)",
   "language": "python",
   "name": "python3"
  },
  "language_info": {
   "codemirror_mode": {
    "name": "ipython",
    "version": 3
   },
   "file_extension": ".py",
   "mimetype": "text/x-python",
   "name": "python",
   "nbconvert_exporter": "python",
   "pygments_lexer": "ipython3",
   "version": "3.7.3"
  }
 },
 "nbformat": 4,
 "nbformat_minor": 5
}
